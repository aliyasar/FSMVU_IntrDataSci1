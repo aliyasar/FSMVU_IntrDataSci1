{
 "cells": [
  {
   "cell_type": "code",
   "execution_count": 1,
   "metadata": {
    "collapsed": true
   },
   "outputs": [
    {
     "name": "stdout",
     "output_type": "stream",
     "text": [
      "Lütfen bir tam sayı giriniz: -1\n",
      "Negatif sayı girdiniz sıfıra atandı\n"
     ]
    }
   ],
   "source": [
    "##### IF STATEMENT #####\n",
    ">>> x = int(input(\"Lütfen bir tam sayı giriniz: \")) \n",
    ">>> if x < 0:\n",
    "...     x = 0\n",
    "...     print('Negatif sayı girdiniz sıfıra atandı')\n",
    "... elif x == 0: # short form of else if.\n",
    "...     print('Sıfır girildi.')\n",
    "... elif x == 1:\n",
    "...     print('1 girildi.')\n",
    "... else:\n",
    "...     print('Pozitif bir sayı girildi.')\n",
    "..."
   ]
  },
  {
   "cell_type": "code",
   "execution_count": 2,
   "metadata": {
    "collapsed": true
   },
   "outputs": [
    {
     "name": "stdout",
     "output_type": "stream",
     "text": [
      "kedi 4\n",
      "ağaca 5\n",
      "tırmandı 8\n"
     ]
    }
   ],
   "source": [
    "##### FOR STATEMENTS #####\n",
    ">>> # Measure some strings:\n",
    "... kelimeler = ['kedi', 'ağaca', 'tırmandı']\n",
    "# iterates over the items of any sequence (a list or a string), in the order that they appear in the sequence\n",
    ">>> for w in kelimeler:\n",
    "...     print(w, len(w))\n",
    "..."
   ]
  },
  {
   "cell_type": "code",
   "execution_count": 3,
   "metadata": {
    "collapsed": true
   },
   "outputs": [
    {
     "name": "stdout",
     "output_type": "stream",
     "text": [
      "0\n",
      "1\n",
      "2\n",
      "3\n",
      "4\n"
     ]
    }
   ],
   "source": [
    "##### RANGE FUNCTION #####\n",
    "#iterate over a sequence of numbers\n",
    ">>> for i in range(5):\n",
    "...     print(i)\n",
    "..."
   ]
  },
  {
   "cell_type": "code",
   "execution_count": 10,
   "metadata": {
    "collapsed": true
   },
   "outputs": [
    {
     "name": "stdout",
     "output_type": "stream",
     "text": [
      "0\n",
      "3\n",
      "6\n",
      "9\n"
     ]
    }
   ],
   "source": [
    ">>> for r in range(0, 10, 3): # included 0-9 sequences with 3\n",
    "...     print (r)"
   ]
  },
  {
   "cell_type": "code",
   "execution_count": 12,
   "metadata": {
    "collapsed": true
   },
   "outputs": [
    {
     "name": "stdout",
     "output_type": "stream",
     "text": [
      "0 Python\n",
      "1 programlama\n",
      "2 dili\n"
     ]
    }
   ],
   "source": [
    "#RANGE AND LENGTH\n",
    ">>> d = ['Python', 'programlama', 'dili']\n",
    ">>> for i in range(len(d)):\n",
    "     print(i, d[i])"
   ]
  },
  {
   "cell_type": "code",
   "execution_count": 13,
   "metadata": {
    "collapsed": true
   },
   "outputs": [
    {
     "data": {
      "text/plain": [
       "[0, 1, 2, 3, 4]"
      ]
     },
     "execution_count": 13,
     "metadata": {},
     "output_type": "execute_result"
    }
   ],
   "source": [
    "## list creates from iterables\n",
    ">>> list(range(5))\n"
   ]
  },
  {
   "cell_type": "code",
   "execution_count": 16,
   "metadata": {
    "collapsed": true
   },
   "outputs": [
    {
     "name": "stdout",
     "output_type": "stream",
     "text": [
      "2 asal sayıdır.\n",
      "3 asal sayıdır.\n",
      "4 =  2 * 2\n",
      "5 asal sayıdır.\n",
      "6 =  2 * 3\n",
      "7 asal sayıdır.\n",
      "8 =  2 * 4\n",
      "9 =  3 * 3\n"
     ]
    }
   ],
   "source": [
    "##### BREAK, CONTINUE, ELSE #####\n",
    ">>> for n in range(2, 10):\n",
    "...     for x in range(2, n):\n",
    "...         if n % x == 0:\n",
    "...             print(n, '= ', x, '*', n//x)\n",
    "...             break # n%x =0 durumunda buraya girer ve iç döngü değeri sonlanır diğer değere geçer.\n",
    "...     else:\n",
    "...         # loop fell through without finding a factor\n",
    "...         print(n, 'asal sayıdır.')\n",
    "..."
   ]
  },
  {
   "cell_type": "code",
   "execution_count": 19,
   "metadata": {
    "collapsed": true
   },
   "outputs": [
    {
     "name": "stdout",
     "output_type": "stream",
     "text": [
      "Çift sayı bulundu:  2\n",
      "Tek sayı bulundu:  3\n",
      "Çift sayı bulundu:  4\n",
      "Tek sayı bulundu:  5\n",
      "Çift sayı bulundu:  6\n",
      "Tek sayı bulundu:  7\n",
      "Çift sayı bulundu:  8\n",
      "Tek sayı bulundu:  9\n"
     ]
    }
   ],
   "source": [
    ">>> for num in range(2, 10):\n",
    "...     if num % 2 == 0:\n",
    "...         print(\"Çift sayı bulundu: \", num)\n",
    "...         continue\n",
    "...     print(\"Tek sayı bulundu: \", num)"
   ]
  },
  {
   "cell_type": "code",
   "execution_count": 61,
   "metadata": {
    "collapsed": true
   },
   "outputs": [
    {
     "name": "stdout",
     "output_type": "stream",
     "text": [
      "Current Letter : P\n",
      "Current Letter : y\n",
      "Current Letter : t\n",
      "This is pass block\n",
      "Current Letter : h\n",
      "Current Letter : o\n",
      "Current Letter : n\n",
      "Good bye!ss\n"
     ]
    }
   ],
   "source": [
    "# PASS STATEMENTS\n",
    "#The pass statement does nothing. \n",
    "#It can be used when a statement is required syntactically but the program requires no action\n",
    "for letter in 'Python': \n",
    "   if letter == 'h':\n",
    "      pass #Doing nothing\n",
    "      print ('This is pass block')\n",
    "   print (\"Current Letter :\", letter)\n",
    "\n",
    "print (\"Good bye!\")"
   ]
  },
  {
   "cell_type": "code",
   "execution_count": 62,
   "metadata": {
    "collapsed": false
   },
   "outputs": [],
   "source": [
    "# you create but do not implement it with pass. If pass is not added, it gives an error.IndentationError: expected an indented block \n",
    "# for example:\n",
    "#try:\n",
    "#    self.version = \"Expat %d.%d.%d\" % expat.version_info\n",
    "#except AttributeError:\n",
    "#    pass # unknown\n",
    "#\n",
    "class MyClass(object):\n",
    "    def meth_a(self):\n",
    "        pass \n",
    "\n",
    "    def meth_b(self):\n",
    "        print (\"I'm meth_b\")"
   ]
  },
  {
   "cell_type": "code",
   "execution_count": 59,
   "metadata": {
    "collapsed": true
   },
   "outputs": [],
   "source": [
    "# Working on new code and you do not want to forget here so you can add the statement below.\n",
    ">>> def initlog(*args):\n",
    "...     pass   # Remember to implement this!\n",
    "..."
   ]
  },
  {
   "cell_type": "code",
   "execution_count": 71,
   "metadata": {
    "collapsed": true
   },
   "outputs": [
    {
     "name": "stdout",
     "output_type": "stream",
     "text": [
      "0 1 1 2 3 5 8 13 21 34 55 89 144 233 377 610 987 1597 \n",
      "0 1 1 2 3 5 8 \n"
     ]
    }
   ],
   "source": [
    "##### DEFINING FUNCTIONS #####\n",
    ">>> def fib(n):    # write Fibonacci series up to n\n",
    "...     \"\"\"Print a Fibonacci series up to n.\"\"\"\n",
    "...     a, b = 0, 1\n",
    "...     while a < n:\n",
    "...         print(a, end=' ')\n",
    "...         a, b = b, a+b\n",
    "...     print()\n",
    "...\n",
    ">>> # Now call the function we just defined:\n",
    "... fib(2000)\n",
    "... f=fib # you can assign function to another variable\n",
    "... f(10) # and call it.\n",
    "# def=definition ====>  def functionName(parameterValue):\n",
    "# Calling it with functionName(parameterValue)\n",
    "# Following parts continue with indented ... in it."
   ]
  },
  {
   "cell_type": "code",
   "execution_count": 78,
   "metadata": {
    "collapsed": true
   },
   "outputs": [
    {
     "name": "stdout",
     "output_type": "stream",
     "text": [
      "Do you really want to quit?ye\n"
     ]
    },
    {
     "data": {
      "text/plain": [
       "True"
      ]
     },
     "execution_count": 78,
     "metadata": {},
     "output_type": "execute_result"
    }
   ],
   "source": [
    "##### More on Defining Functions #####\n",
    "def ask_ok(prompt, retries=4, complaint='Yes or no, please!'):\n",
    "    while True:\n",
    "        ok = input(prompt)\n",
    "        if ok in ('y', 'ye', 'yes'):\n",
    "            return True\n",
    "        if ok in ('n', 'no', 'nop', 'nope'):\n",
    "            return False\n",
    "        retries = retries - 1\n",
    "        if retries < 0:\n",
    "            raise OSError('uncooperative user')\n",
    "        print(complaint)\n",
    "\n",
    "ask_ok('Do you really want to quit?')\n",
    "#ask_ok('OK to overwrite the file?', 2)"
   ]
  },
  {
   "cell_type": "code",
   "execution_count": 79,
   "metadata": {
    "collapsed": true
   },
   "outputs": [
    {
     "name": "stdout",
     "output_type": "stream",
     "text": [
      "5\n"
     ]
    }
   ],
   "source": [
    "#Ex.definition in the defining scope\n",
    "i = 5\n",
    "\n",
    "def f(arg=i):\n",
    "    print(arg)\n",
    "\n",
    "i = 6\n",
    "f()"
   ]
  },
  {
   "cell_type": "code",
   "execution_count": 85,
   "metadata": {
    "collapsed": true
   },
   "outputs": [
    {
     "name": "stdout",
     "output_type": "stream",
     "text": [
      "[1]\n",
      "[1, 2]\n",
      "[1, 2, 3]\n"
     ]
    }
   ],
   "source": [
    "#Ex2.\n",
    "def f(a, L=[]):\n",
    "    L.append(a)\n",
    "    return L\n",
    "\n",
    "print(f(1))\n",
    "print(f(2))\n",
    "print(f(3))"
   ]
  },
  {
   "cell_type": "code",
   "execution_count": 96,
   "metadata": {
    "collapsed": true
   },
   "outputs": [
    {
     "name": "stdout",
     "output_type": "stream",
     "text": [
      "-- This parrot wouldn't VOOOOOM if you put 1000000 volts through it.\n",
      "-- Lovely plumage, the Norwegian Blue\n",
      "-- It's a stiff !\n"
     ]
    }
   ],
   "source": [
    "### KEYWORD ARGUMENTS ###\n",
    "###an argument preceded by an identifier (e.g. name=) in a function call or passed as a value in a dictionary preceded\n",
    "def parrot(voltage, state='a stiff', action='voom', type='Norwegian Blue'):\n",
    "    print(\"-- This parrot wouldn't\", action, end=' ')\n",
    "    print(\"if you put\", voltage, \"volts through it.\")\n",
    "    print(\"-- Lovely plumage, the\", type)\n",
    "    print(\"-- It's\", state, \"!\")\n",
    "#parrot(1000)  \n",
    "#parrot(voltage=1000)\n",
    "parrot(voltage=1000000, action='VOOOOOM')\n",
    "#parrot(110, voltage=220) #error duplicate value for the same argument voltage, voltage similarity."
   ]
  },
  {
   "cell_type": "code",
   "execution_count": 95,
   "metadata": {
    "collapsed": true
   },
   "outputs": [
    {
     "name": "stdout",
     "output_type": "stream",
     "text": [
      "-- Do you have any Limburger ?\n",
      "-- I'm sorry, we're all out of Limburger\n",
      "It's very runny, sir.\n",
      "It's really very, VERY runny, sir.\n",
      "----------------------------------------\n",
      "client : John Cleese\n",
      "shopkeeper : Michael Palin\n",
      "sketch : Cheese Shop Sketch\n"
     ]
    }
   ],
   "source": [
    "###a final formal parameter of the form **name is present\n",
    "def cheeseshop(kind, *arguments, **keywords):\n",
    "    print(\"-- Do you have any\", kind, \"?\")\n",
    "    print(\"-- I'm sorry, we're all out of\", kind)\n",
    "    for arg in arguments:\n",
    "        print(arg)\n",
    "    print(\"-\" * 40)\n",
    "    keys = sorted(keywords.keys())\n",
    "    for kw in keys:\n",
    "        print(kw, \":\", keywords[kw])\n",
    "\n",
    "cheeseshop(\"Limburger\", \"It's very runny, sir.\",\n",
    "           \"It's really very, VERY runny, sir.\",\n",
    "           shopkeeper=\"Michael Palin\",\n",
    "           client=\"John Cleese\",\n",
    "           sketch=\"Cheese Shop Sketch\")\n"
   ]
  },
  {
   "cell_type": "code",
   "execution_count": 94,
   "metadata": {
    "collapsed": true
   },
   "outputs": [],
   "source": [
    "def write_multiple_items(file, separator, *args):\n",
    "    file.write(separator.join(args))"
   ]
  },
  {
   "cell_type": "code",
   "execution_count": 101,
   "metadata": {
    "collapsed": true
   },
   "outputs": [
    {
     "data": {
      "text/plain": [
       "'earth.mars.venus'"
      ]
     },
     "execution_count": 101,
     "metadata": {},
     "output_type": "execute_result"
    }
   ],
   "source": [
    ">>> def concat(*args, sep=\"/\"):\n",
    "...    return sep.join(args)\n",
    "...\n",
    "#>>> concat(\"earth\", \"mars\", \"venus\")\n",
    ">>> concat(\"earth\", \"mars\", \"venus\", sep=\".\") #seperator and arguments\n"
   ]
  },
  {
   "cell_type": "code",
   "execution_count": 103,
   "metadata": {
    "collapsed": true
   },
   "outputs": [
    {
     "data": {
      "text/plain": [
       "[3, 4, 5]"
      ]
     },
     "execution_count": 103,
     "metadata": {},
     "output_type": "execute_result"
    }
   ],
   "source": [
    "##### Unpacking Argument Lists ######\n",
    ">>> args = [3, 6]\n",
    ">>> list(range(*args))            # call with arguments unpacked from a list"
   ]
  },
  {
   "cell_type": "code",
   "execution_count": 108,
   "metadata": {
    "collapsed": true
   },
   "outputs": [
    {
     "name": "stdout",
     "output_type": "stream",
     "text": [
      "-- This parrot wouldn't VOOM if you put four million volts through it. E's bleedin' demised !\n"
     ]
    }
   ],
   "source": [
    "###Dictionaries can deliver keyword arguments with the **-operator:\n",
    ">>> def parrot(voltage, state='a stiff', action='voom'):\n",
    "...     print(\"-- This parrot wouldn't\", action, end=' ')\n",
    "...     print(\"if you put\", voltage, \"volts through it.\", end=' ')\n",
    "...     print(\"E's\", state, \"!\")\n",
    "...\n",
    ">>> d = {\"voltage\": \"four million\", \"state\": \"bleedin' demised\", \"action\": \"VOOM\"}\n",
    ">>> parrot(**d)\n"
   ]
  },
  {
   "cell_type": "code",
   "execution_count": 112,
   "metadata": {
    "collapsed": true
   },
   "outputs": [
    {
     "data": {
      "text/plain": [
       "47"
      ]
     },
     "execution_count": 112,
     "metadata": {},
     "output_type": "execute_result"
    }
   ],
   "source": [
    "#### Lambda Expressions\n",
    ">>> def make_incrementor(n):\n",
    "...     return lambda x: x + n\n",
    "...\n",
    ">>> f = make_incrementor(42)\n",
    ">>> f(1)\n",
    "#Like nested function definitions, lambda functions can reference variables from the containing scope:"
   ]
  },
  {
   "cell_type": "code",
   "execution_count": 113,
   "metadata": {
    "collapsed": true
   },
   "outputs": [
    {
     "name": "stdout",
     "output_type": "stream",
     "text": [
      "Do nothing, but document it.\n",
      "\n",
      "    No, really, it doesn't do anything.\n",
      "    \n"
     ]
    }
   ],
   "source": [
    "#### 4.7.6. Documentation Strings\n",
    ">>> def my_function():\n",
    "...     \"\"\"Do nothing, but document it.\n",
    "...\n",
    "...     No, really, it doesn't do anything.\n",
    "...     \"\"\"\n",
    "...     pass\n",
    "...\n",
    ">>> print(my_function.__doc__)\n"
   ]
  },
  {
   "cell_type": "code",
   "execution_count": 131,
   "metadata": {
    "collapsed": true
   },
   "outputs": [
    {
     "name": "stdout",
     "output_type": "stream",
     "text": [
      "Annotations: {'return': <class 'str'>, 'ham': <class 'str'>, 'eggs': <class 'str'>}\n",
      "Arguments: spam eggs\n"
     ]
    },
    {
     "data": {
      "text/plain": [
       "'spam and eggs'"
      ]
     },
     "execution_count": 131,
     "metadata": {},
     "output_type": "execute_result"
    }
   ],
   "source": [
    "#4.7.7. Function Annotations\n",
    ">>> def f(ham: str, eggs: str = 'eggs') -> str:\n",
    "...     print(\"Annotations:\", f.__annotations__)\n",
    "...     print(\"Arguments:\", ham, eggs)\n",
    "...     return ham + ' and ' + eggs\n",
    "...\n",
    ">>> f('spam')"
   ]
  },
  {
   "cell_type": "code",
   "execution_count": null,
   "metadata": {
    "collapsed": true
   },
   "outputs": [],
   "source": [
    "#4.8. Intermezzo: Coding Style\n",
    "\n",
    "#Use 4-space indentation, and no tabs.\n",
    "\n",
    "#Wrap lines so that they don’t exceed 79 characters.\n",
    "\n",
    "#Use blank lines to separate functions and classes, and larger blocks of code inside functions.\n",
    "\n",
    "#When possible, put comments on a line of their own.\n",
    "\n",
    "#Use docstrings.\n",
    "\n"
   ]
  }
 ],
 "metadata": {
  "kernelspec": {
   "display_name": "Python 3",
   "language": "python",
   "name": "python3"
  },
  "language_info": {
   "codemirror_mode": {
    "name": "ipython",
    "version": 3
   },
   "file_extension": ".py",
   "mimetype": "text/x-python",
   "name": "python",
   "nbconvert_exporter": "python",
   "pygments_lexer": "ipython3",
   "version": "3.5.1"
  }
 },
 "nbformat": 4,
 "nbformat_minor": 0
}

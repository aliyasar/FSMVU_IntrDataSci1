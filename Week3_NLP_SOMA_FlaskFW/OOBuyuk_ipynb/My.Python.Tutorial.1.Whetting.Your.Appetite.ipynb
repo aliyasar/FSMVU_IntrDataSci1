{
 "cells": [
  {
   "cell_type": "code",
   "execution_count": 1,
   "metadata": {
    "collapsed": false
   },
   "outputs": [
    {
     "name": "stdout",
     "output_type": "stream",
     "text": [
      "This part is Oral Presentation\n"
     ]
    }
   ],
   "source": [
    "print (\"This part is Oral Presentation\")"
   ]
  },
  {
   "cell_type": "code",
   "execution_count": 2,
   "metadata": {
    "collapsed": false
   },
   "outputs": [
    {
     "name": "stdout",
     "output_type": "stream",
     "text": [
      "Reference: https://docs.python.org/3/tutorial/appetite.html\n"
     ]
    }
   ],
   "source": [
    "print (\"Reference: https://docs.python.org/3/tutorial/appetite.html\")"
   ]
  },
  {
   "cell_type": "code",
   "execution_count": 3,
   "metadata": {
    "collapsed": false
   },
   "outputs": [
    {
     "name": "stdout",
     "output_type": "stream",
     "text": [
      "Tutorial mentions what Python is and what benefits of it provide.\n"
     ]
    }
   ],
   "source": [
    "print (\"Tutorial mentions what Python is and what benefits of it provide.\")"
   ]
  },
  {
   "cell_type": "code",
   "execution_count": null,
   "metadata": {
    "collapsed": true
   },
   "outputs": [],
   "source": []
  }
 ],
 "metadata": {
  "kernelspec": {
   "display_name": "Python 3",
   "language": "python",
   "name": "python3"
  },
  "language_info": {
   "codemirror_mode": {
    "name": "ipython",
    "version": 3
   },
   "file_extension": ".py",
   "mimetype": "text/x-python",
   "name": "python",
   "nbconvert_exporter": "python",
   "pygments_lexer": "ipython3",
   "version": "3.5.1"
  }
 },
 "nbformat": 4,
 "nbformat_minor": 0
}

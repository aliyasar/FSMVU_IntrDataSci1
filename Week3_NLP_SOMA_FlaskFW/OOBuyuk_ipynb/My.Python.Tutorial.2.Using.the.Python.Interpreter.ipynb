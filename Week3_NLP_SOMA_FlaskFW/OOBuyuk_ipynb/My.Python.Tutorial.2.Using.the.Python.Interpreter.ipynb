{
 "cells": [
  {
   "cell_type": "code",
   "execution_count": 1,
   "metadata": {
    "collapsed": false
   },
   "outputs": [
    {
     "name": "stdout",
     "output_type": "stream",
     "text": [
      "Topics are in Oral Presentation.\n"
     ]
    }
   ],
   "source": [
    "print (\"Topics are in Oral Presentation.\")"
   ]
  },
  {
   "cell_type": "code",
   "execution_count": 2,
   "metadata": {
    "collapsed": false
   },
   "outputs": [
    {
     "name": "stdout",
     "output_type": "stream",
     "text": [
      "Invoking the Interpreter, Argument Passing, Interactive Mode, Source Code Encoding.\n"
     ]
    }
   ],
   "source": [
    "print (\"Invoking the Interpreter, Argument Passing, Interactive Mode, Source Code Encoding.\")"
   ]
  },
  {
   "cell_type": "code",
   "execution_count": 6,
   "metadata": {
    "collapsed": false
   },
   "outputs": [
    {
     "name": "stdout",
     "output_type": "stream",
     "text": [
      "Merhaba Python\n"
     ]
    }
   ],
   "source": [
    "# Example: This is in command line >>> example. I converted it in order to use here.\n",
    "python_yeni_baslangic = True\n",
    "if python_yeni_baslangic:\n",
    "    print(\"Merhaba Python\")"
   ]
  },
  {
   "cell_type": "code",
   "execution_count": null,
   "metadata": {
    "collapsed": true
   },
   "outputs": [],
   "source": []
  }
 ],
 "metadata": {
  "kernelspec": {
   "display_name": "Python 3",
   "language": "python",
   "name": "python3"
  },
  "language_info": {
   "codemirror_mode": {
    "name": "ipython",
    "version": 3
   },
   "file_extension": ".py",
   "mimetype": "text/x-python",
   "name": "python",
   "nbconvert_exporter": "python",
   "pygments_lexer": "ipython3",
   "version": "3.5.1"
  }
 },
 "nbformat": 4,
 "nbformat_minor": 0
}

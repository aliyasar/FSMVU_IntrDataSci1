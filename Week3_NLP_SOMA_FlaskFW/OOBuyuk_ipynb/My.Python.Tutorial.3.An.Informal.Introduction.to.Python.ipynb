{
 "cells": [
  {
   "cell_type": "code",
   "execution_count": 2,
   "metadata": {
    "collapsed": false,
    "scrolled": true
   },
   "outputs": [],
   "source": [
    "# My First Comment -- This part is not interpreted.\n",
    "spam = 5  # My second comment\n",
    "mesaj = 10 # And goes like this.\n",
    "text = \"# Comment or not? \""
   ]
  },
  {
   "cell_type": "code",
   "execution_count": 8,
   "metadata": {
    "collapsed": true
   },
   "outputs": [
    {
     "data": {
      "text/plain": [
       "4"
      ]
     },
     "execution_count": 8,
     "metadata": {},
     "output_type": "execute_result"
    }
   ],
   "source": [
    "# Calculation examples: [3.1. Using Python as a Calculator]\n",
    "##### 3.1.1 NUMBERS #####\n",
    "# Ex1. Basic Calculations\n",
    "2+2"
   ]
  },
  {
   "cell_type": "code",
   "execution_count": 18,
   "metadata": {
    "collapsed": true
   },
   "outputs": [
    {
     "data": {
      "text/plain": [
       "1.6"
      ]
     },
     "execution_count": 18,
     "metadata": {},
     "output_type": "execute_result"
    }
   ],
   "source": [
    "# Ex2. Division -- returning float point\n",
    "8/5"
   ]
  },
  {
   "cell_type": "code",
   "execution_count": 19,
   "metadata": {
    "collapsed": true
   },
   "outputs": [
    {
     "data": {
      "text/plain": [
       "158.33333333333334"
      ]
     },
     "execution_count": 19,
     "metadata": {},
     "output_type": "execute_result"
    }
   ],
   "source": [
    "# Ex3. A bit complex calculation\n",
    "((100 - 25/5)*5)/3"
   ]
  },
  {
   "cell_type": "code",
   "execution_count": 20,
   "metadata": {
    "collapsed": true
   },
   "outputs": [
    {
     "data": {
      "text/plain": [
       "2"
      ]
     },
     "execution_count": 20,
     "metadata": {},
     "output_type": "execute_result"
    }
   ],
   "source": [
    "# Ex4. Remainder operator %\n",
    "17%3"
   ]
  },
  {
   "cell_type": "code",
   "execution_count": 22,
   "metadata": {
    "collapsed": true
   },
   "outputs": [
    {
     "data": {
      "text/plain": [
       "1024"
      ]
     },
     "execution_count": 22,
     "metadata": {},
     "output_type": "execute_result"
    }
   ],
   "source": [
    "# Ex5. Power of numbers using ** \n",
    "2 ** 10"
   ]
  },
  {
   "cell_type": "code",
   "execution_count": 24,
   "metadata": {
    "collapsed": true
   },
   "outputs": [
    {
     "data": {
      "text/plain": [
       "1000"
      ]
     },
     "execution_count": 24,
     "metadata": {},
     "output_type": "execute_result"
    }
   ],
   "source": [
    "# Ex6. >>> next command with the primary prompt and Equal sign\n",
    ">>> genislik = 20\n",
    ">>> yukseklik = 5 * 10\n",
    ">>> genislik * yukseklik"
   ]
  },
  {
   "cell_type": "code",
   "execution_count": 25,
   "metadata": {
    "collapsed": true
   },
   "outputs": [
    {
     "ename": "NameError",
     "evalue": "name 'n' is not defined",
     "output_type": "error",
     "traceback": [
      "\u001b[1;31m---------------------------------------------------------------------------\u001b[0m",
      "\u001b[1;31mNameError\u001b[0m                                 Traceback (most recent call last)",
      "\u001b[1;32m<ipython-input-25-d9f61461e1a3>\u001b[0m in \u001b[0;36m<module>\u001b[1;34m()\u001b[0m\n\u001b[0;32m      1\u001b[0m \u001b[1;31m# Ex7. Accessing undefined variable\u001b[0m\u001b[1;33m\u001b[0m\u001b[1;33m\u001b[0m\u001b[0m\n\u001b[1;32m----> 2\u001b[1;33m \u001b[0mn\u001b[0m\u001b[1;33m\u001b[0m\u001b[0m\n\u001b[0m",
      "\u001b[1;31mNameError\u001b[0m: name 'n' is not defined"
     ]
    }
   ],
   "source": [
    "# Ex7. Accessing undefined variable\n",
    ">>> n"
   ]
  },
  {
   "cell_type": "code",
   "execution_count": 29,
   "metadata": {
    "collapsed": true
   },
   "outputs": [
    {
     "data": {
      "text/plain": [
       "2.5"
      ]
     },
     "execution_count": 29,
     "metadata": {},
     "output_type": "execute_result"
    }
   ],
   "source": [
    "# Ex8. Full support of FLOATING POINT\n",
    ">>> 3 * 3.75 / 1.5"
   ]
  },
  {
   "cell_type": "code",
   "execution_count": 30,
   "metadata": {
    "collapsed": true
   },
   "outputs": [
    {
     "data": {
      "text/plain": [
       "113.06"
      ]
     },
     "execution_count": 30,
     "metadata": {},
     "output_type": "execute_result"
    }
   ],
   "source": [
    "# Ex9. '_' The last printed expression\n",
    ">>> vergi = 12.5 / 100\n",
    ">>> ucret = 100.50\n",
    ">>> ucret * vergi\n",
    "12.5625\n",
    ">>> ucret + _ # we are using here\n",
    "113.0625 \n",
    ">>> round(_, 2) # and here.\n",
    "113.06"
   ]
  },
  {
   "cell_type": "code",
   "execution_count": 31,
   "metadata": {
    "collapsed": false,
    "scrolled": true
   },
   "outputs": [],
   "source": [
    "# Python also supports Decimal, Fraction and complex numbers but it is mentioned on Chapter 9."
   ]
  },
  {
   "cell_type": "code",
   "execution_count": 32,
   "metadata": {
    "collapsed": true
   },
   "outputs": [
    {
     "data": {
      "text/plain": [
       "'\"Evet,\" doğru.'"
      ]
     },
     "execution_count": 32,
     "metadata": {},
     "output_type": "execute_result"
    }
   ],
   "source": [
    "##### 3.1.2 STRINGS #####\n",
    ">>> 'mobile phone'  # single quotes\n",
    "'mobil phone'\n",
    ">>> 'doesn\\'t'  # use \\' to escape the single quote\n",
    "\"doesn't\"\n",
    ">>> \"doesn't\"  # or use double quotes instead\n",
    "\"doesn't\"\n",
    ">>> '\"Evet,\" doğru.'\n",
    "'\"Evet,\" doğru.'\n",
    ">>> \"\\\"Evet,\\\" doğru.\"\n",
    "'\"Evet,\" doğru.'"
   ]
  },
  {
   "cell_type": "code",
   "execution_count": 37,
   "metadata": {
    "collapsed": true
   },
   "outputs": [
    {
     "name": "stdout",
     "output_type": "stream",
     "text": [
      "İlk satır.\n",
      "İkinci satır.\n"
     ]
    }
   ],
   "source": [
    "# print() function\n",
    ">>> s = 'İlk satır.\\nİkinci satır.'  # \\n defines newline\n",
    ">>> s  # without print(), \\n is included in the output\n",
    ">>> print(s)  # with print(), \\n produces a new line"
   ]
  },
  {
   "cell_type": "code",
   "execution_count": 41,
   "metadata": {
    "collapsed": true
   },
   "outputs": [
    {
     "name": "stdout",
     "output_type": "stream",
     "text": [
      "C:\\oguzhan\n",
      "ewfiles\n",
      "C:\\oguzhan\\newfiles\n"
     ]
    }
   ],
   "source": [
    ">>> print('C:\\oguzhan\\newfiles')  # here \\n means newline!\n",
    ">>> print(r'C:\\oguzhan\\newfiles')  # r means to define \"raw strings\""
   ]
  },
  {
   "cell_type": "code",
   "execution_count": 48,
   "metadata": {
    "collapsed": true
   },
   "outputs": [
    {
     "name": "stdout",
     "output_type": "stream",
     "text": [
      "Kullanım: deneme [SECENEKLER]\n",
      "     -h                        Bu mesajı göster\n",
      "     -H hostname               Hostname bağlantı için\n",
      "\n"
     ]
    }
   ],
   "source": [
    "# \\ using this symbol avoids adding new line. ... \n",
    "print(\"\"\"\\\n",
    "Kullanım: deneme [SECENEKLER]\n",
    "     -h                        Bu mesajı göster\n",
    "     -H hostname               Hostname bağlantı için\n",
    "\"\"\")"
   ]
  },
  {
   "cell_type": "code",
   "execution_count": 50,
   "metadata": {
    "collapsed": true
   },
   "outputs": [
    {
     "data": {
      "text/plain": [
       "'veri veri veri veri veri bilimi'"
      ]
     },
     "execution_count": 50,
     "metadata": {},
     "output_type": "execute_result"
    }
   ],
   "source": [
    "# Some string properties\n",
    ">>> # 5 times 'veri', continues with 'bilimi'\n",
    ">>> 5 * 'veri ' + 'bilimi'"
   ]
  },
  {
   "cell_type": "code",
   "execution_count": 54,
   "metadata": {
    "collapsed": true
   },
   "outputs": [
    {
     "data": {
      "text/plain": [
       "'Python'"
      ]
     },
     "execution_count": 54,
     "metadata": {},
     "output_type": "execute_result"
    }
   ],
   "source": [
    ">>> ek = \"Py\"\n",
    ">>> ek + \"thon\"  # concanate operation"
   ]
  },
  {
   "cell_type": "code",
   "execution_count": 61,
   "metadata": {
    "collapsed": true
   },
   "outputs": [
    {
     "name": "stdout",
     "output_type": "stream",
     "text": [
      "İlk harf: P\n",
      "Son harf: a\n",
      "Sondan dört önceki harf: l\n"
     ]
    }
   ],
   "source": [
    ">>> kelime = 'Programlama'\n",
    ">>> kelime[0]  # String is indexed. character in position 0\n",
    ">>> print (\"İlk harf: \" +kelime[0] + \"\\nSon harf: \" +kelime[-1] + \"\\nSondan dördüncü önceki harf: \"+ kelime[-4])"
   ]
  },
  {
   "cell_type": "code",
   "execution_count": 73,
   "metadata": {
    "collapsed": true
   },
   "outputs": [
    {
     "name": "stdout",
     "output_type": "stream",
     "text": [
      "Yeni kelime: Pr\n",
      "Yeni kelime: Programming\n",
      "gramming\n"
     ]
    },
    {
     "ename": "TypeError",
     "evalue": "'str' object does not support item assignment",
     "output_type": "error",
     "traceback": [
      "\u001b[1;31m---------------------------------------------------------------------------\u001b[0m",
      "\u001b[1;31mTypeError\u001b[0m                                 Traceback (most recent call last)",
      "\u001b[1;32m<ipython-input-73-bd064e53032f>\u001b[0m in \u001b[0;36m<module>\u001b[1;34m()\u001b[0m\n\u001b[0;32m      8\u001b[0m \u001b[1;33m\u001b[0m\u001b[0m\n\u001b[0;32m      9\u001b[0m \u001b[1;31m# String is immutable\u001b[0m\u001b[1;33m\u001b[0m\u001b[1;33m\u001b[0m\u001b[0m\n\u001b[1;32m---> 10\u001b[1;33m \u001b[0myeni_kelime\u001b[0m\u001b[1;33m[\u001b[0m\u001b[1;36m0\u001b[0m\u001b[1;33m]\u001b[0m \u001b[1;33m=\u001b[0m\u001b[1;34m'A'\u001b[0m\u001b[1;33m\u001b[0m\u001b[0m\n\u001b[0m",
      "\u001b[1;31mTypeError\u001b[0m: 'str' object does not support item assignment"
     ]
    }
   ],
   "source": [
    "# Slicing in string\n",
    ">>> yeni_kelime = 'Programming'\n",
    ">>> print (\"Yeni kelime: \"+yeni_kelime[0:2])  # characters from position 0 (included) to 2 (excluded)\n",
    ">>> print (\"Yeni kelime: \"+ yeni_kelime[:3] + yeni_kelime[3:]) # equals to yeni_kelime variable\n",
    "\n",
    "# Accessing indexes:\n",
    ">>> print(yeni_kelime[3:42])  # automatically sized to max index of the string\n",
    "\n",
    "# String is immutable\n",
    "yeni_kelime[0] ='A'\n"
   ]
  },
  {
   "cell_type": "code",
   "execution_count": 75,
   "metadata": {
    "collapsed": true
   },
   "outputs": [
    {
     "data": {
      "text/plain": [
       "15"
      ]
     },
     "execution_count": 75,
     "metadata": {},
     "output_type": "execute_result"
    }
   ],
   "source": [
    "# Length function len()\n",
    ">>> s = 'Python Anaconda'\n",
    ">>> len(s)"
   ]
  },
  {
   "cell_type": "code",
   "execution_count": 88,
   "metadata": {
    "collapsed": true
   },
   "outputs": [
    {
     "name": "stdout",
     "output_type": "stream",
     "text": [
      "[1, 4, 9, 16, 25]\n",
      "1\n",
      "[9, 16, 25]\n",
      "[1, 4, 9, 16, 25]\n",
      "[1, 4, 55, 16, 25]\n"
     ]
    }
   ],
   "source": [
    "##### LISTS #####\n",
    ">>> A = [1, 4, 9, 16, 25]\n",
    ">>> print (A)\n",
    "\n",
    "# As similir in string,\n",
    ">>> print(A[0])  # indexing returns the item\n",
    ">>> print(A[-3:])  # slicing returns a new list\n",
    ">>> print(A[:]) # Using slice operation, return new list\n",
    "A[2]= 55 // List is mutable unlike string.\n",
    ">>> print (A)"
   ]
  },
  {
   "cell_type": "code",
   "execution_count": 91,
   "metadata": {
    "collapsed": true
   },
   "outputs": [
    {
     "data": {
      "text/plain": [
       "[5, 175, 195, 33, 11, 9, 7, 1, 343]"
      ]
     },
     "execution_count": 91,
     "metadata": {},
     "output_type": "execute_result"
    }
   ],
   "source": [
    "#append() operation to add new item at the end of the list\n",
    ">>> yeniList = [5,175, 195, 33, 11, 9, 7]\n",
    ">>> yeniList.append(1)  # add the cube of 8\n",
    ">>> yeniList.append(7 ** 3)  # and the cube of 9\n",
    ">>> yeniList"
   ]
  },
  {
   "cell_type": "code",
   "execution_count": 93,
   "metadata": {
    "collapsed": true
   },
   "outputs": [
    {
     "name": "stdout",
     "output_type": "stream",
     "text": [
      "['a', 'b', 'c', 'd', 'e', 'f', 'g']\n",
      "['a', 'b', 'ç', 'D', 'E', 'f', 'g']\n",
      "['a', 'b', 'g']\n",
      "[]\n"
     ]
    }
   ],
   "source": [
    "# Some operations\n",
    ">>> benimListem = ['a', 'b', 'c', 'd', 'e', 'f', 'g']\n",
    ">>> print(benimListem)\n",
    ">>> # replace some values\n",
    ">>> benimListem[2:5] = ['ç', 'D', 'E']\n",
    ">>> print(benimListem)\n",
    ">>> # now remove them\n",
    ">>> benimListem[2:6] = []\n",
    ">>> print(benimListem)\n",
    ">>> # clear the list by replacing all the elements with an empty list\n",
    ">>> benimListem[:] = []\n",
    ">>> print(benimListem)"
   ]
  },
  {
   "cell_type": "code",
   "execution_count": 95,
   "metadata": {
    "collapsed": true
   },
   "outputs": [
    {
     "data": {
      "text/plain": [
       "4"
      ]
     },
     "execution_count": 95,
     "metadata": {},
     "output_type": "execute_result"
    }
   ],
   "source": [
    "# len() function also works in list\n",
    ">>> harfler = ['a', 'b', 'c', 'd']\n",
    ">>> len(harfler)"
   ]
  },
  {
   "cell_type": "code",
   "execution_count": 97,
   "metadata": {
    "collapsed": true
   },
   "outputs": [
    {
     "name": "stdout",
     "output_type": "stream",
     "text": [
      "[['a', 'b', 'c'], [1, 2, 3]]\n",
      "['a', 'b', 'c']\n",
      "b\n"
     ]
    }
   ],
   "source": [
    "# nested lists\n",
    ">>> someLetters = ['a', 'b', 'c']\n",
    ">>> someNumbers = [1, 2, 3]\n",
    ">>> x = [someLetters, someNumbers]\n",
    ">>> print(x)\n",
    ">>> print(x[0])\n",
    ">>> print(x[0][1])"
   ]
  },
  {
   "cell_type": "code",
   "execution_count": 102,
   "metadata": {
    "collapsed": true
   },
   "outputs": [
    {
     "name": "stdout",
     "output_type": "stream",
     "text": [
      "1\n",
      "1\n",
      "2\n",
      "3\n",
      "5\n",
      "8\n"
     ]
    }
   ],
   "source": [
    "##### FIRST STEPS TO PROGRAMMING #####\n",
    ">>> # Fibonacci series: the sum of two numbers define next number\n",
    "... a, b = 0, 1\n",
    ">>> while b < 10:\n",
    "...     print(b)\n",
    "...     a, b = b, a+b\n",
    "..."
   ]
  },
  {
   "cell_type": "code",
   "execution_count": 105,
   "metadata": {
    "collapsed": false
   },
   "outputs": [
    {
     "name": "stdout",
     "output_type": "stream",
     "text": [
      "i'nin değeri: 65536\n"
     ]
    }
   ],
   "source": [
    "# Ex.\n",
    ">>> i = 256*256\n",
    ">>> print(\"i'nin değeri:\", i)\n"
   ]
  },
  {
   "cell_type": "code",
   "execution_count": 109,
   "metadata": {
    "collapsed": false
   },
   "outputs": [
    {
     "name": "stdout",
     "output_type": "stream",
     "text": [
      "1,1,2,3,5,8,13,21,34,55,89,144,233,377,610,987,"
     ]
    }
   ],
   "source": [
    "# Ex2. end avoids assigning on new line \n",
    ">>> a, b = 0, 1\n",
    ">>> while b < 1000:\n",
    "...     print(b, end=',')\n",
    "...     a, b = b, a+b"
   ]
  },
  {
   "cell_type": "code",
   "execution_count": null,
   "metadata": {
    "collapsed": false
   },
   "outputs": [],
   "source": []
  },
  {
   "cell_type": "code",
   "execution_count": null,
   "metadata": {
    "collapsed": true
   },
   "outputs": [],
   "source": []
  }
 ],
 "metadata": {
  "kernelspec": {
   "display_name": "Python 3",
   "language": "python",
   "name": "python3"
  },
  "language_info": {
   "codemirror_mode": {
    "name": "ipython",
    "version": 3
   },
   "file_extension": ".py",
   "mimetype": "text/x-python",
   "name": "python",
   "nbconvert_exporter": "python",
   "pygments_lexer": "ipython3",
   "version": "3.5.1"
  }
 },
 "nbformat": 4,
 "nbformat_minor": 0
}

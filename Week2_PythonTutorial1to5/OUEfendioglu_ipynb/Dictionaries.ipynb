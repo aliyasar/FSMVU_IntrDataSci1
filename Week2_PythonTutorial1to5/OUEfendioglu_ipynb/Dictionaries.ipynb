{
 "cells": [
  {
   "cell_type": "code",
   "execution_count": 273,
   "metadata": {
    "collapsed": true
   },
   "outputs": [],
   "source": [
    "# Dictionaries are indexed by keys, which can be any immutable \n",
    "# type; strings and numbers can always be keys. Tuples can be \n",
    "# used as keys if they contain only strings, numbers, or tuples; \n",
    "# if a tuple contains any mutable object either directly or \n",
    "# indirectly, it cannot be used as a key."
   ]
  },
  {
   "cell_type": "code",
   "execution_count": 274,
   "metadata": {
    "collapsed": false
   },
   "outputs": [
    {
     "name": "stdout",
     "output_type": "stream",
     "text": [
      "d: {}\n",
      "type: <class 'dict'>\n"
     ]
    }
   ],
   "source": [
    "# A pair of braces creates an empty dictionary: {}\n",
    "d = {}\n",
    "\n",
    "print('d:', d)\n",
    "print('type:', type(d))"
   ]
  },
  {
   "cell_type": "code",
   "execution_count": 275,
   "metadata": {
    "collapsed": false
   },
   "outputs": [
    {
     "name": "stdout",
     "output_type": "stream",
     "text": [
      "d: {'Name': 'Zara', 'Age': 7, 'Class': 'First'}\n",
      "d['Name']: Zara\n"
     ]
    }
   ],
   "source": [
    "# The main operations on a dictionary are storing a value with \n",
    "# some key and extracting the value given the key\n",
    "d = {'Name': 'Zara', 'Age': 7};\n",
    "\n",
    "d['Class'] = 'First'  # Add new entry\n",
    "\n",
    "print('d:', d)\n",
    "print(\"d['Name']:\", d['Name'])"
   ]
  },
  {
   "cell_type": "code",
   "execution_count": 276,
   "metadata": {
    "collapsed": false
   },
   "outputs": [
    {
     "name": "stdout",
     "output_type": "stream",
     "text": [
      "d: {'Name': 'Zara', 'Age': 7}\n"
     ]
    }
   ],
   "source": [
    "# It is also possible to delete a key:value pair with del\n",
    "del d['Class']\n",
    "\n",
    "print('d:', d)"
   ]
  },
  {
   "cell_type": "code",
   "execution_count": 277,
   "metadata": {
    "collapsed": false
   },
   "outputs": [
    {
     "name": "stdout",
     "output_type": "stream",
     "text": [
      "d: {'Name': 'Zara', 'Age': 12}\n"
     ]
    }
   ],
   "source": [
    "d['Age'] = 12  # Update existing entry\n",
    "\n",
    "print('d:', d)"
   ]
  },
  {
   "cell_type": "code",
   "execution_count": 278,
   "metadata": {
    "collapsed": false
   },
   "outputs": [
    {
     "name": "stdout",
     "output_type": "stream",
     "text": [
      "It is an error to extract a value using a non-existent key 'Zara'\n"
     ]
    }
   ],
   "source": [
    "# It is an error to extract a value using a non-existent key\n",
    "try:\n",
    "    print(d['Zara'])\n",
    "except KeyError as e:\n",
    "    print('It is an error to extract a value using a non-existent key', e)"
   ]
  },
  {
   "cell_type": "code",
   "execution_count": 279,
   "metadata": {
    "collapsed": false
   },
   "outputs": [
    {
     "name": "stdout",
     "output_type": "stream",
     "text": [
      "['Name', 'Age']\n"
     ]
    }
   ],
   "source": [
    "# Performing list(d.keys()) on a dictionary returns a list of \n",
    "# all the keys used in the dictionary, in arbitrary order\n",
    "l = list(d.keys())\n",
    "\n",
    "print(l)"
   ]
  },
  {
   "cell_type": "code",
   "execution_count": 280,
   "metadata": {
    "collapsed": false,
    "scrolled": true
   },
   "outputs": [
    {
     "name": "stdout",
     "output_type": "stream",
     "text": [
      "['Age', 'Name']\n"
     ]
    }
   ],
   "source": [
    "# If you want it sorted, just use sorted(d.keys()) instead\n",
    "l = sorted(d.keys())\n",
    "\n",
    "print(l)"
   ]
  },
  {
   "cell_type": "code",
   "execution_count": 281,
   "metadata": {
    "collapsed": false
   },
   "outputs": [
    {
     "name": "stdout",
     "output_type": "stream",
     "text": [
      "True\n"
     ]
    }
   ],
   "source": [
    "# To check whether a single key is in the dictionary, use the \n",
    "# in keyword\n",
    "print('Age' in d)"
   ]
  },
  {
   "cell_type": "code",
   "execution_count": 282,
   "metadata": {
    "collapsed": false
   },
   "outputs": [
    {
     "name": "stdout",
     "output_type": "stream",
     "text": [
      "square: {2: 4, 4: 16, 6: 36}\n"
     ]
    }
   ],
   "source": [
    "# Dictionary comprehension\n",
    "square = {x: x ** 2 for x in (2, 4, 6)}\n",
    "\n",
    "print('square:', square)"
   ]
  },
  {
   "cell_type": "code",
   "execution_count": 283,
   "metadata": {
    "collapsed": false
   },
   "outputs": [
    {
     "name": "stdout",
     "output_type": "stream",
     "text": [
      "True\n"
     ]
    }
   ],
   "source": [
    "# The dict() constructor builds dictionaries directly from\n",
    "# sequences of key-value pairs\n",
    "try:\n",
    "    a = dict(one=1, two=2, three=3)\n",
    "    b = {'one': 1, 'two': 2, 'three': 3}\n",
    "    c = dict(zip(['one', 'two', 'three'], [1, 2, 3]))\n",
    "    d = dict([('two', 2), ('one', 1), ('three', 3)])\n",
    "    e = dict({'three': 3, 'one': 1, 'two': 2})\n",
    "\n",
    "    isEqual = a == b == c == d == e\n",
    "\n",
    "    print(isEqual)  # True\n",
    "\n",
    "except TypeError:\n",
    "    print('True')"
   ]
  },
  {
   "cell_type": "code",
   "execution_count": 284,
   "metadata": {
    "collapsed": false
   },
   "outputs": [
    {
     "name": "stdout",
     "output_type": "stream",
     "text": [
      "dd: {'Name': 'Zara', 'Age': 12}\n"
     ]
    }
   ],
   "source": [
    "dd = d.copy()\n",
    "\n",
    "print('dd:', dd)"
   ]
  },
  {
   "cell_type": "code",
   "execution_count": 285,
   "metadata": {
    "collapsed": false,
    "scrolled": true
   },
   "outputs": [
    {
     "name": "stdout",
     "output_type": "stream",
     "text": [
      "d: {}\n"
     ]
    }
   ],
   "source": [
    "# To clear all elements of dictionary use clear() method\n",
    "d.clear()\n",
    "\n",
    "print('d:', d)"
   ]
  },
  {
   "cell_type": "code",
   "execution_count": 286,
   "metadata": {
    "collapsed": false
   },
   "outputs": [
    {
     "name": "stdout",
     "output_type": "stream",
     "text": [
      "age: 12\n",
      "weight: 30\n",
      "dd: {'Name': 'Zara', 'Age': 12, 'Weight': 30}\n"
     ]
    }
   ],
   "source": [
    "# Simple get method, with and without default value\n",
    "age = dd.get('Age')\n",
    "weight = dd.get('Weight', 30)\n",
    "\n",
    "print(\"age:\", age)\n",
    "print(\"weight:\", weight)\n",
    "print('dd:',  dd)"
   ]
  },
  {
   "cell_type": "code",
   "execution_count": 287,
   "metadata": {
    "collapsed": false
   },
   "outputs": [
    {
     "name": "stdout",
     "output_type": "stream",
     "text": [
      "weight: 30\n",
      "dd: {'Name': 'Zara', 'Age': 12, 'Weight': 30}\n"
     ]
    }
   ],
   "source": [
    "# To apply default value while returning it\n",
    "weight = dd.setdefault('Weight', 29)\n",
    "\n",
    "print('weight:', weight)\n",
    "print('dd:',  dd)"
   ]
  },
  {
   "cell_type": "code",
   "execution_count": 288,
   "metadata": {
    "collapsed": false
   },
   "outputs": [
    {
     "name": "stdout",
     "output_type": "stream",
     "text": [
      "dict1: {'four': 4, 'one': 1, 'two': 2, 'three': 3, 'five': 5}\n"
     ]
    }
   ],
   "source": [
    "dict1 = {'one': 1, 'two': 2, 'three': 3}\n",
    "dict2 = {'four': 4, 'five': 5}\n",
    "\n",
    "dict1.update(dict2)\n",
    "\n",
    "print('dict1:', dict1)"
   ]
  }
 ],
 "metadata": {
  "kernelspec": {
   "display_name": "Python 3",
   "language": "python",
   "name": "python3"
  },
  "language_info": {
   "codemirror_mode": {
    "name": "ipython",
    "version": 3
   },
   "file_extension": ".py",
   "mimetype": "text/x-python",
   "name": "python",
   "nbconvert_exporter": "python",
   "pygments_lexer": "ipython3",
   "version": "3.5.1"
  }
 },
 "nbformat": 4,
 "nbformat_minor": 0
}

{
 "cells": [
  {
   "cell_type": "code",
   "execution_count": null,
   "metadata": {
    "collapsed": false
   },
   "outputs": [],
   "source": [
    "# fibo.py file content\n",
    "# Fibonacci numbers module\n",
    "def fib(n):    # write Fibonacci series up to n\n",
    "    a, b = 0, 1\n",
    "    while b < n:\n",
    "        print(b, end=' ')\n",
    "        a, b = b, a+b\n",
    "    print()\n",
    "\n",
    "def fib2(n): # return Fibonacci series up to n\n",
    "    result = []\n",
    "    a, b = 0, 1\n",
    "    while b < n:\n",
    "        result.append(b)\n",
    "        a, b = b, a+b\n",
    "    return result\n"
   ]
  },
  {
   "cell_type": "code",
   "execution_count": null,
   "metadata": {
    "collapsed": false
   },
   "outputs": [],
   "source": [
    "# importing module\n",
    "# import all functions. Need module name\n",
    "import fibo       \n",
    "\n",
    "fibo.fib(1000)\n",
    "\n",
    "import fibo as f       \n",
    "\n",
    "f.fib(1000)\n",
    "\n",
    "# import all functions. No need module name\n",
    "from fibo import * \n",
    "\n",
    "fib(500)\n",
    "\n",
    "from fibo import fib, fib2 # import specific functions\n",
    "\n",
    "fibo.fib(1000)\n",
    "\n",
    "fibo.fib2(100)\n",
    "\n",
    "fibo.__name__\n"
   ]
  },
  {
   "cell_type": "code",
   "execution_count": null,
   "metadata": {
    "collapsed": true
   },
   "outputs": [],
   "source": [
    "#fibo.py\n",
    "\n",
    "# if this file executed directly or imported\n",
    "# if imported __name__ = filo\n",
    "# if executed directly __name__ = __main__\n",
    "if __name__ == \"__main__\":\n",
    "    import sys\n",
    "    fib(int(sys.argv[1]))\n",
    "\n",
    "##################################\n",
    "\n",
    "# Terminal\n",
    "# \n",
    "$ python fibo.py 50\n",
    "1 1 2 3 5 8 13 21 34"
   ]
  },
  {
   "cell_type": "code",
   "execution_count": null,
   "metadata": {
    "collapsed": false
   },
   "outputs": [],
   "source": [
    "# The dir() Function\n",
    "#import fibo\n",
    "\n",
    "# Show fibo functions\n",
    "#dir(fibo) \n",
    "#['__name__', 'fib', 'fib2']\n",
    "\n",
    "#builtin functions\n",
    "import builtins\n",
    "dir(builtins)"
   ]
  },
  {
   "cell_type": "code",
   "execution_count": null,
   "metadata": {
    "collapsed": true
   },
   "outputs": [],
   "source": []
  },
  {
   "cell_type": "code",
   "execution_count": null,
   "metadata": {
    "collapsed": true
   },
   "outputs": [],
   "source": [
    "# Packages\n",
    "\n",
    "sound/                          Top-level package\n",
    "      __init__.py               Initialize the sound package\n",
    "      formats/                  Subpackage for file format conversions\n",
    "              __init__.py\n",
    "              wavread.py\n",
    "              wavwrite.py\n",
    "              aiffread.py\n",
    "              aiffwrite.py\n",
    "              auread.py\n",
    "              auwrite.py\n",
    "              ...\n",
    "      effects/                  Subpackage for sound effects\n",
    "              __init__.py\n",
    "              echo.py\n",
    "              surround.py\n",
    "              reverse.py\n",
    "              ...\n",
    "      filters/                  Subpackage for filters\n",
    "              __init__.py\n",
    "              equalizer.py\n",
    "              vocoder.py\n",
    "              karaoke.py\n",
    "              ...\n",
    "\n",
    "                \n",
    "# import example\n",
    "import sound.effects.echo\n",
    "sound.effects.echo.echofilter(input, output, delay=0.7, atten=4)\n",
    "\n",
    "from sound.effects import echo\n",
    "echo.echofilter(input, output, delay=0.7, atten=4)\n",
    "\n",
    "\n",
    "from sound.effects.echo import echofilter\n",
    "echofilter(input, output, delay=0.7, atten=4)\n",
    "\n",
    "# Importing * From a Package\n",
    "# __init__.py file should contain this code\n",
    "__all__ = [\"echo\", \"surround\", \"reverse\"]\n",
    "\n",
    "from sound.effects import *"
   ]
  }
 ],
 "metadata": {
  "kernelspec": {
   "display_name": "Python 3",
   "language": "python",
   "name": "python3"
  },
  "language_info": {
   "codemirror_mode": {
    "name": "ipython",
    "version": 3
   },
   "file_extension": ".py",
   "mimetype": "text/x-python",
   "name": "python",
   "nbconvert_exporter": "python",
   "pygments_lexer": "ipython3",
   "version": "3.5.1"
  }
 },
 "nbformat": 4,
 "nbformat_minor": 0
}

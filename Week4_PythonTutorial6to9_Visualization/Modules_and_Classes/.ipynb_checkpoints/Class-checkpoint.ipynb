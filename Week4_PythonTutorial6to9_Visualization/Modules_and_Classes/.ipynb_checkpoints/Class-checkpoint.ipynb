{
 "cells": [
  {
   "cell_type": "code",
   "execution_count": null,
   "metadata": {
    "collapsed": false
   },
   "outputs": [],
   "source": [
    "#Scopes and Namespaces Example\n",
    "def scope_test():\n",
    "    \n",
    "    spam = \"test spam\"\n",
    "    def do_local():\n",
    "        spam = \"local spam\"\n",
    "    def do_nonlocal():\n",
    "        nonlocal spam\n",
    "        spam = \"nonlocal spam\"\n",
    "    def do_global():\n",
    "        global spam\n",
    "        spam = \"global spam\"\n",
    " \n",
    "    do_local()\n",
    "    print(\"After local assignment:\", spam)\n",
    "    do_nonlocal()\n",
    "    print(\"After nonlocal assignment:\", spam)\n",
    "    do_global()\n",
    "    global spam1\n",
    "    spam1 = \"global2 spam\"\n",
    "    print(\"After global assignment:\", spam1)\n",
    "\n",
    "spam =\"Deneme spam\"\n",
    "spam1 =\"Deneme2 spam\"\n",
    "scope_test()\n",
    "\n",
    "print(\"In global scope:\", spam)\n",
    "print(spam1)"
   ]
  },
  {
   "cell_type": "code",
   "execution_count": null,
   "metadata": {
    "collapsed": true
   },
   "outputs": [],
   "source": [
    "#Class Definition Syntax\n",
    "class ClassName:\n",
    "    <statement-1>\n",
    "    .\n",
    "    .\n",
    "    .\n",
    "    <statement-N>"
   ]
  },
  {
   "cell_type": "code",
   "execution_count": null,
   "metadata": {
    "collapsed": false
   },
   "outputs": [],
   "source": [
    "#Class Objects\n",
    "class MyClass:\n",
    "    \"\"\"A simple example class\"\"\"\n",
    "    i = 12345\n",
    "    def f(self):\n",
    "        return 'hello world'\n",
    "\n",
    "#__doc__ string\n",
    "print(MyClass.__doc__)\n",
    "print(MyClass.i)"
   ]
  },
  {
   "cell_type": "code",
   "execution_count": null,
   "metadata": {
    "collapsed": false
   },
   "outputs": [],
   "source": [
    "class Complex:\n",
    "    def __init__(self, realpart, imagpart): # Constructor\n",
    "        self.r = realpart\n",
    "        self.i = imagpart\n",
    "\n",
    "x = Complex(3.0, -4.5)\n",
    "x.r, x.i"
   ]
  },
  {
   "cell_type": "code",
   "execution_count": null,
   "metadata": {
    "collapsed": false,
    "scrolled": true
   },
   "outputs": [],
   "source": [
    "#Instance Objects\n",
    "class x:\n",
    "    counter = 1\n",
    "    def f():\n",
    "        return \"f function\"\n",
    "\n",
    "print(x.counter)\n",
    "\n",
    "#Method Objects\n",
    "xf = x.f\n",
    "\n",
    "print(xf())"
   ]
  },
  {
   "cell_type": "code",
   "execution_count": null,
   "metadata": {
    "collapsed": false
   },
   "outputs": [],
   "source": [
    "#Class and Instance Variables\n",
    "class Dog:\n",
    "\n",
    "    kind = 'Bulldog'         # class variable shared by all instances\n",
    " \n",
    "    def changeObjectKind(self, kind):\n",
    "        self.kind = kind    # Change kind just for one object\n",
    "        \n",
    "    def changeKindForAll(self, kind):\n",
    "        Dog.kind = kind     # Change kind for all object\n",
    "\n",
    "\n",
    "D = Dog()\n",
    "E = Dog()\n",
    "\n",
    "print(D.kind)\n",
    "D.changeKindForAll(\"Pitbull\")\n",
    "print(E.kind)\n",
    "D.changeObjectKind(\"Kangal\")\n",
    "print(E.kind)"
   ]
  },
  {
   "cell_type": "code",
   "execution_count": null,
   "metadata": {
    "collapsed": true
   },
   "outputs": [],
   "source": [
    "# Self Call\n",
    "class Bag:\n",
    "    def __init__(self):\n",
    "        self.data = []\n",
    "    def add(self, x):\n",
    "        self.data.append(x)\n",
    "    def addtwice(self, x): # call add function\n",
    "        self.add(x)\n",
    "        self.add(x)"
   ]
  },
  {
   "cell_type": "code",
   "execution_count": null,
   "metadata": {
    "collapsed": true
   },
   "outputs": [],
   "source": [
    "#Inheritance\n",
    "class DerivedClassName(BaseClassName):\n",
    "    <statement-1>\n",
    "    .\n",
    "    .\n",
    "\n",
    "# Base class in a module\n",
    "class DerivedClassName(modulename.BaseClassName):\n",
    "    <statement-1>\n",
    "    .\n",
    "    .\n",
    "    \n",
    "#Multiple Inheritance\n",
    "class DerivedClassName(Base1, Base2, Base3):\n",
    "    <statement-1>\n",
    "    .\n",
    "    ."
   ]
  },
  {
   "cell_type": "code",
   "execution_count": null,
   "metadata": {
    "collapsed": false
   },
   "outputs": [],
   "source": [
    "class Person:\n",
    "    def __init__(self, name, age):\n",
    "        self.name = name\n",
    "        self.age = age\n",
    "    \n",
    "    def __str__(self):\n",
    "        return \"My name is {0} and I am {1} year old.\".format(self.name,self.age)\n",
    "        \n",
    "class Teacher(Person):\n",
    "    def __init__(self, name, age, sub):\n",
    "        Person.__init__(self,name,age) # Call Super class\n",
    "        self.sub = sub\n",
    "    \n",
    "    def __str__(self):\n",
    "        return Person.__str__(self) + \" My subject is {}\".format(self.sub)\n",
    "   \n",
    "t1 = Teacher(\"Ferdi\",23, \"Python Classes\")\n",
    "\n",
    "print(t)"
   ]
  },
  {
   "cell_type": "code",
   "execution_count": null,
   "metadata": {
    "collapsed": true
   },
   "outputs": [],
   "source": [
    "#Private Variables\n",
    "class Mapping:\n",
    "    def __init__(self, iterable):\n",
    "        self.items_list = []\n",
    "        self.__update(iterable)\n",
    "\n",
    "    def update(self, iterable):\n",
    "        for item in iterable:\n",
    "            self.items_list.append(item)\n",
    "\n",
    "    __update = update   # private copy of original update() method\n",
    "\n",
    "class MappingSubclass(Mapping):\n",
    "\n",
    "    def update(self, keys, values):\n",
    "        # provides new signature for update()\n",
    "        # but does not break __init__()\n",
    "        for item in zip(keys, values):\n",
    "            self.items_list.append(item)\n"
   ]
  },
  {
   "cell_type": "code",
   "execution_count": null,
   "metadata": {
    "collapsed": false
   },
   "outputs": [],
   "source": [
    "#Odds and Ends\n",
    "class Employee:\n",
    "    pass\n",
    "\n",
    "john = Employee() # Create an empty employee record\n",
    "\n",
    "# Fill the fields of the record\n",
    "john.name = 'John Doe'\n",
    "john.dept = 'computer lab'\n",
    "john.salary = 1000\n",
    "\n",
    "print(john.name)\n",
    "ahmet = Employee()\n",
    "ahmet.name = 'John Doe'\n",
    "ahmet.dept = 'computer lab'\n",
    "ahmet.salary = 1000\n",
    "ahmet.age = 23\n",
    "print(ahmet.age)\n",
    "print(john.age)"
   ]
  },
  {
   "cell_type": "code",
   "execution_count": null,
   "metadata": {
    "collapsed": false
   },
   "outputs": [],
   "source": [
    "#Exception\n",
    "class B(Exception):\n",
    "    pass\n",
    "class C(B):\n",
    "    pass\n",
    "class D(C):\n",
    "    pass\n",
    "\n",
    "for cls in [B, C, D]:\n",
    "    try:\n",
    "        raise cls()\n",
    "        \n",
    "    except B:\n",
    "        print(\"B\")\n",
    "    except C:\n",
    "        print(\"C\")"
   ]
  },
  {
   "cell_type": "code",
   "execution_count": null,
   "metadata": {
    "collapsed": false
   },
   "outputs": [],
   "source": [
    "#Iterators\n",
    "for char in \"123\":\n",
    "    print(char)\n",
    "    \n",
    "\n",
    "# How iterator work\n",
    "s = '1234'\n",
    "it = iter(s)\n",
    "print(it)\n",
    "next(it)\n",
    "\n",
    "next(it)\n",
    "\n",
    "next(it)\n",
    "\n",
    "o = next(it)\n",
    "\n",
    "print(o)\n",
    "\n",
    "print(s)"
   ]
  },
  {
   "cell_type": "code",
   "execution_count": null,
   "metadata": {
    "collapsed": false
   },
   "outputs": [],
   "source": [
    "# Override iterator\n",
    "class Reverse:\n",
    "    \"\"\"Iterator for looping over a sequence backwards.\"\"\"\n",
    "    def __init__(self, data):\n",
    "        self.data = data\n",
    "        self.index = len(data)\n",
    "    def __iter__(self):\n",
    "        return self\n",
    "    def __next__(self):\n",
    "        if self.index == 0:\n",
    "            raise StopIteration\n",
    "        self.index = self.index - 1\n",
    "        return self.data[self.index]\n",
    "\n",
    "rev = Reverse('spam')\n",
    "iter(rev)\n",
    "next(rev)\n",
    "next(rev)\n",
    "#for char in rev:\n",
    "   # print(char)"
   ]
  },
  {
   "cell_type": "code",
   "execution_count": null,
   "metadata": {
    "collapsed": false
   },
   "outputs": [],
   "source": [
    "#Generators\n",
    "def reverse(data):\n",
    "    for index in range(len(data)-1, -1, -1):\n",
    "        yield data[index]\n",
    "        \n",
    "for char in reverse('golf'):\n",
    "    print(char)\n",
    "\n",
    "print(reverse('deneme')[0])"
   ]
  }
 ],
 "metadata": {
  "kernelspec": {
   "display_name": "Python 3",
   "language": "python",
   "name": "python3"
  },
  "language_info": {
   "codemirror_mode": {
    "name": "ipython",
    "version": 3
   },
   "file_extension": ".py",
   "mimetype": "text/x-python",
   "name": "python",
   "nbconvert_exporter": "python",
   "pygments_lexer": "ipython3",
   "version": "3.5.1"
  }
 },
 "nbformat": 4,
 "nbformat_minor": 0
}
